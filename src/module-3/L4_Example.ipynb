{
 "cells": [
  {
   "metadata": {
    "ExecuteTime": {
     "end_time": "2025-10-26T17:33:16.580680Z",
     "start_time": "2025-10-26T17:33:16.563830Z"
    }
   },
   "cell_type": "code",
   "source": [
    "from dotenv import load_dotenv\n",
    "load_dotenv()"
   ],
   "id": "35a74f32720442a4",
   "outputs": [
    {
     "data": {
      "text/plain": [
       "True"
      ]
     },
     "execution_count": 1,
     "metadata": {},
     "output_type": "execute_result"
    }
   ],
   "execution_count": 1
  },
  {
   "metadata": {
    "ExecuteTime": {
     "end_time": "2025-10-26T17:43:16.361171Z",
     "start_time": "2025-10-26T17:43:15.045678Z"
    }
   },
   "cell_type": "code",
   "source": [
    "from langgraph.types import interrupt\n",
    "from typing import TypedDict\n",
    "from langchain_openai import ChatOpenAI\n",
    "from IPython.display import Image, display\n",
    "from langgraph.checkpoint.memory import MemorySaver\n",
    "from langgraph.graph import MessagesState\n",
    "from langgraph.graph import START, StateGraph\n",
    "from langgraph.prebuilt import tools_condition, ToolNode\n",
    "from langchain_core.messages import AIMessage, HumanMessage, SystemMessage\n",
    "\n",
    "def tyre_strat(Laps_Remaining: int, Laps_Done: int, Safety_Car: bool, drivability: bool) -> str:\n",
    "    \"\"\"\n",
    "    This is used to suggest if the Driver needs to Box and Change Tyres\n",
    "    \"\"\"\n",
    "    if Laps_Done > 15:\n",
    "        return \"Box for New Hards\"\n",
    "    elif not drivability:\n",
    "        return \"Change Tyres\"\n",
    "    elif (Laps_Remaining < 15 and Safety_Car):\n",
    "        return \"Box for a set of Softs and time to Turn and Burn\"\n",
    "    else:\n",
    "        return \"Stay Out!! Stay Out!! Stay Out!!\"\n",
    "\n",
    "def Wet_Condition(Laps_Remaining: int, is_raining: bool, drivability: bool) -> str:\n",
    "    \"\"\"\n",
    "    If there exists a wet condition use this\n",
    "    \"\"\"\n",
    "    if drivability:\n",
    "        return \"Let's drive in until the brink of toughness\"\n",
    "    elif is_raining and (not drivability):\n",
    "        return \"Box for Wets and Unleash Hell\"\n",
    "    elif Laps_Remaining < 5:\n",
    "        return \"Let's nurse this car back home, Pit Stop is not worth the time gain\"\n",
    "    else:\n",
    "        return \"Stay Out!! Stay Out!! Stay Out!!\"\n",
    "\n",
    "# Initialize the model and bind the tools\n",
    "tools = [tyre_strat, Wet_Condition]\n",
    "llm = ChatOpenAI(model=\"gpt-4o\")\n",
    "llm_with_tools = llm.bind_tools(tools)\n",
    "\n",
    "\n",
    "sys_msg = SystemMessage(content=\"You are a F1 Race Engineer. Help the driver make strategic decisions.\")\n",
    "\n",
    "# Define the nodes for the graph\n",
    "def check_input(state: MessagesState):\n",
    "    last_message = state['messages'][-1]\n",
    "\n",
    "    if len(last_message.content) > 40:\n",
    "        raise interrupt(f\"Message is too long for the radio! Keep it short. Received: '{last_message.content}'\")\n",
    "    return state\n",
    "\n",
    "def assistant(state: MessagesState):\n",
    "    messages_with_system = [sys_msg] + state[\"messages\"]\n",
    "    response = llm_with_tools.invoke(messages_with_system)\n",
    "    return {\"messages\": [response]}\n",
    "\n",
    "tool_node = ToolNode(tools)\n",
    "\n",
    "builder = StateGraph(MessagesState)\n",
    "\n",
    "builder.add_node(\"check\", check_input)\n",
    "builder.add_node(\"assistant\", assistant)\n",
    "builder.add_node(\"tools\", tool_node)\n",
    "\n",
    "builder.add_edge(START, \"check\")\n",
    "builder.add_edge(\"check\", \"assistant\")\n",
    "builder.add_conditional_edges(\"assistant\", tools_condition)\n",
    "builder.add_edge(\"tools\", \"assistant\")\n",
    "\n",
    "memory = MemorySaver()\n",
    "\n",
    "graph = builder.compile(checkpointer=memory)\n",
    "\n",
    "\n",
    "display(Image(graph.get_graph(xray=True).draw_mermaid_png()))\n"
   ],
   "id": "9cf269e78d8a172d",
   "outputs": [
    {
     "data": {
      "image/png": "[encoded data removed]",
      "text/plain": [
       "<IPython.core.display.Image object>"
      ]
     },
     "metadata": {},
     "output_type": "display_data"
    }
   ],
   "execution_count": 20
  },
  {
   "metadata": {
    "ExecuteTime": {
     "end_time": "2025-10-26T17:50:22.404279Z",
     "start_time": "2025-10-26T17:50:22.395245Z"
    }
   },
   "cell_type": "code",
   "source": [
    "thread = {\"configurable\": {\"thread_id\": \"Driver_8\"}}\n",
    "\n",
    "\n",
    "initial_input = {\"messages\": [HumanMessage(content=\"The Car is driving all around the road and it is raining like crazy and what is the plan to box me or Piastri\")]}\n",
    "\n",
    "for event in graph.stream(initial_input, thread, stream_mode=\"values\"):\n",
    "    print(event)\n",
    "\n"
   ],
   "id": "6fde97a5a4ccb9fe",
   "outputs": [
    {
     "name": "stdout",
     "output_type": "stream",
     "text": [
      "{'messages': [HumanMessage(content='The Car is driving all around the road and it is raining like crazy and what is the plan to box me or Piastri', additional_kwargs={}, response_metadata={}, id='044341b6-7780-4800-847a-c96d1035c415')]}\n",
      "{'__interrupt__': (Interrupt(value=\"Message is too long for the radio! Keep it short. Received: 'The Car is driving all around the road and it is raining like crazy and what is the plan to box me or Piastri'\", id='c036196e28cf2dcfdcd5b87d881e6578'),)}\n"
     ]
    }
   ],
   "execution_count": 38
  },
  {
   "metadata": {
    "ExecuteTime": {
     "end_time": "2025-10-26T17:50:27.329060Z",
     "start_time": "2025-10-26T17:50:24.707999Z"
    }
   },
   "cell_type": "code",
   "source": [
    "\n",
    "graph.update_state(\n",
    "    thread,\n",
    "    {\"messages\": [HumanMessage(content=\"Car is undrivable,losing grip from Rain\")]},\n",
    ")\n",
    "\n",
    "\n",
    "for event in graph.stream(None, thread, stream_mode=\"values\"):\n",
    "    # Print the latest message from the assistant or tools\n",
    "    event['messages'][-1].pretty_print()"
   ],
   "id": "f51a984ac027e3dd",
   "outputs": [
    {
     "name": "stdout",
     "output_type": "stream",
     "text": [
      "================================\u001B[1m Human Message \u001B[0m=================================\n",
      "\n",
      "Car is undrivable,losing grip from Rain\n",
      "================================\u001B[1m Human Message \u001B[0m=================================\n",
      "\n",
      "Car is undrivable,losing grip from Rain\n",
      "==================================\u001B[1m Ai Message \u001B[0m==================================\n",
      "Tool Calls:\n",
      "  Wet_Condition (call_hCpD8C0yX3H9EOBsbFjo11hz)\n",
      " Call ID: call_hCpD8C0yX3H9EOBsbFjo11hz\n",
      "  Args:\n",
      "    Laps_Remaining: 15\n",
      "    is_raining: True\n",
      "    drivability: False\n",
      "=================================\u001B[1m Tool Message \u001B[0m=================================\n",
      "Name: Wet_Condition\n",
      "\n",
      "Box for Wets and Unleash Hell\n",
      "==================================\u001B[1m Ai Message \u001B[0m==================================\n",
      "\n",
      "Box for wet tires and then push hard!\n"
     ]
    }
   ],
   "execution_count": 39
  },
  {
   "metadata": {
    "ExecuteTime": {
     "end_time": "2025-10-26T17:50:54.849077Z",
     "start_time": "2025-10-26T17:50:54.840489Z"
    }
   },
   "cell_type": "code",
   "source": [
    "for event in graph.stream(None, thread, stream_mode=\"values\"):\n",
    "    # Print the latest message from the assistant or tools\n",
    "    event['messages'][-1].pretty_print()"
   ],
   "id": "2301dac0169f4f76",
   "outputs": [
    {
     "name": "stdout",
     "output_type": "stream",
     "text": [
      "==================================\u001B[1m Ai Message \u001B[0m==================================\n",
      "\n",
      "Box for wet tires and then push hard!\n"
     ]
    }
   ],
   "execution_count": 40
  }
 ],
 "metadata": {
  "kernelspec": {
   "display_name": "Python 3",
   "language": "python",
   "name": "python3"
  },
  "language_info": {
   "codemirror_mode": {
    "name": "ipython",
    "version": 2
   },
   "file_extension": ".py",
   "mimetype": "text/x-python",
   "name": "python",
   "nbconvert_exporter": "python",
   "pygments_lexer": "ipython2",
   "version": "2.7.6"
  }
 },
 "nbformat": 4,
 "nbformat_minor": 5
}
