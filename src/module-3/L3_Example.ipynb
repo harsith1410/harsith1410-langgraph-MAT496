{
 "cells": [
  {
   "metadata": {
    "ExecuteTime": {
     "end_time": "2025-10-26T16:29:03.146735Z",
     "start_time": "2025-10-26T16:29:03.130028Z"
    }
   },
   "cell_type": "code",
   "source": [
    "from dotenv import load_dotenv\n",
    "load_dotenv()"
   ],
   "id": "35a74f32720442a4",
   "outputs": [
    {
     "data": {
      "text/plain": [
       "True"
      ]
     },
     "execution_count": 1,
     "metadata": {},
     "output_type": "execute_result"
    }
   ],
   "execution_count": 1
  },
  {
   "metadata": {
    "ExecuteTime": {
     "end_time": "2025-10-26T16:32:48.632199Z",
     "start_time": "2025-10-26T16:32:46.877502Z"
    }
   },
   "cell_type": "code",
   "source": [
    "from langchain_openai import ChatOpenAI\n",
    "from IPython.display import Image, display\n",
    "from langgraph.checkpoint.memory import MemorySaver\n",
    "from langgraph.graph import MessagesState\n",
    "from langgraph.graph import START, StateGraph\n",
    "from langgraph.prebuilt import tools_condition, ToolNode\n",
    "from langchain_core.messages import AIMessage, HumanMessage, SystemMessage\n",
    "\n",
    "def tyre_strat(Laps_Remaining: int,Laps_Done: int,Safety_Car: bool,drivability: bool) -> str:\n",
    "    \"\"\"\n",
    "    This is used to suggest if the Driver needs to Box and Change Tyres\n",
    "    \"\"\"\n",
    "    if Laps_Done > 15  :\n",
    "        return \"Box for New Hards\"\n",
    "    elif not drivability:\n",
    "        return \"Change Tyres\"\n",
    "    elif (Laps_Remaining<15 and Safety_Car):\n",
    "        return \"Box for a set of Softs and time to Turn and Burn\"\n",
    "    else:\n",
    "        return \"Stay Out!! Stay Out!! Stay Out!!\"\n",
    "\n",
    "def Wet_Condition(is_raining: bool,drivability: bool) -> str:\n",
    "    \"\"\"\n",
    "    If there exists a wet condition use this\n",
    "    \"\"\"\n",
    "    if drivability:\n",
    "        return \"Let's drive in until the brink of toughness\"\n",
    "    elif is_raining and (not drivability):\n",
    "        return \"Box for Wets and Unleash Hell\"\n",
    "    else:\n",
    "        return \"Stay Out!! Stay Out!! Stay Out!!\"\n",
    "\n",
    "\n",
    "tools = [tyre_strat,Wet_Condition]\n",
    "llm = ChatOpenAI(model=\"gpt-5-nano-2025-08-07\")\n",
    "llm_with_tools = llm.bind_tools(tools)\n",
    "\n",
    "# System message\n",
    "sys_msg = SystemMessage(content=\"You are a F1 Race Engineer to driver and help the driver\")\n",
    "\n",
    "# Node\n",
    "def assistant(state: MessagesState):\n",
    "   return {\"messages\": [llm_with_tools.invoke([sys_msg] + state[\"messages\"])]}\n",
    "\n",
    "# Graph\n",
    "builder = StateGraph(MessagesState)\n",
    "\n",
    "# Define nodes: these do the work\n",
    "builder.add_node(\"assistant\", assistant)\n",
    "builder.add_node(\"tools\", ToolNode(tools))\n",
    "\n",
    "# Define edges: these determine the control flow\n",
    "builder.add_edge(START, \"assistant\")\n",
    "builder.add_conditional_edges(\n",
    "    \"assistant\",\n",
    "    tools_condition,\n",
    ")\n",
    "builder.add_edge(\"tools\", \"assistant\")\n",
    "\n",
    "memory = MemorySaver()\n",
    "graph = builder.compile(interrupt_before=[\"assistant\"], checkpointer=memory)\n",
    "\n",
    "# Show\n",
    "display(Image(graph.get_graph(xray=True).draw_mermaid_png()))"
   ],
   "id": "9cf269e78d8a172d",
   "outputs": [
    {
     "data": {
      "image/png": "[encoded data removed]",
      "text/plain": [
       "<IPython.core.display.Image object>"
      ]
     },
     "metadata": {},
     "output_type": "display_data"
    }
   ],
   "execution_count": 15
  },
  {
   "metadata": {},
   "cell_type": "code",
   "source": [
    "# Input\n",
    "initial_input = {\"messages\": \"Box for new softs the Car is swinging like crazy\"}\n",
    "\n",
    "# Thread\n",
    "thread = {\"configurable\": {\"thread_id\": \"5\"}}\n",
    "\n",
    "# Run the graph until the first interruption\n",
    "for event in graph.stream(initial_input, thread, stream_mode=\"values\"):\n",
    "    event['messages'][-1].pretty_print()\n",
    "\n",
    "state = graph.get_state(thread)\n",
    "state"
   ],
   "id": "6fde97a5a4ccb9fe",
   "outputs": [],
   "execution_count": null
  },
  {
   "metadata": {
    "ExecuteTime": {
     "end_time": "2025-10-26T16:35:36.523804Z",
     "start_time": "2025-10-26T16:35:36.514536Z"
    }
   },
   "cell_type": "code",
   "source": [
    "graph.update_state(\n",
    "    thread,\n",
    "    {\"messages\": [HumanMessage(content=\"It's raining and I am starting to lose grip of the car\")]},\n",
    ")\n",
    "\n",
    "new_state = graph.get_state(thread).values\n",
    "for m in new_state['messages']:\n",
    "    m.pretty_print()"
   ],
   "id": "f51a984ac027e3dd",
   "outputs": [
    {
     "name": "stdout",
     "output_type": "stream",
     "text": [
      "================================\u001B[1m Human Message \u001B[0m=================================\n",
      "\n",
      "Box for new softs the Car is swinging like crazy\n",
      "================================\u001B[1m Human Message \u001B[0m=================================\n",
      "\n",
      "It's raining and I am starting to lose grip of the car\n"
     ]
    }
   ],
   "execution_count": 21
  },
  {
   "metadata": {
    "ExecuteTime": {
     "end_time": "2025-10-26T16:36:02.230808Z",
     "start_time": "2025-10-26T16:35:40.200736Z"
    }
   },
   "cell_type": "code",
   "source": [
    "for event in graph.stream(None, thread, stream_mode=\"values\"):\n",
    "    event['messages'][-1].pretty_print()"
   ],
   "id": "2301dac0169f4f76",
   "outputs": [
    {
     "name": "stdout",
     "output_type": "stream",
     "text": [
      "================================\u001B[1m Human Message \u001B[0m=================================\n",
      "\n",
      "It's raining and I am starting to lose grip of the car\n",
      "==================================\u001B[1m Ai Message \u001B[0m==================================\n",
      "Tool Calls:\n",
      "  Wet_Condition (call_5iT6DFHBe9Uz8lQh1qmz1nF7)\n",
      " Call ID: call_5iT6DFHBe9Uz8lQh1qmz1nF7\n",
      "  Args:\n",
      "    is_raining: True\n",
      "    drivability: False\n",
      "=================================\u001B[1m Tool Message \u001B[0m=================================\n",
      "Name: Wet_Condition\n",
      "\n",
      "Box for Wets and Unleash Hell\n"
     ]
    }
   ],
   "execution_count": 22
  }
 ],
 "metadata": {
  "kernelspec": {
   "display_name": "Python 3",
   "language": "python",
   "name": "python3"
  },
  "language_info": {
   "codemirror_mode": {
    "name": "ipython",
    "version": 2
   },
   "file_extension": ".py",
   "mimetype": "text/x-python",
   "name": "python",
   "nbconvert_exporter": "python",
   "pygments_lexer": "ipython2",
   "version": "2.7.6"
  }
 },
 "nbformat": 4,
 "nbformat_minor": 5
}
