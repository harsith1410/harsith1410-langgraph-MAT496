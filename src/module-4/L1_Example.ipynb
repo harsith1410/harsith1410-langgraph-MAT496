{
 "cells": [
  {
   "cell_type": "code",
   "id": "initial_id",
   "metadata": {
    "collapsed": true,
    "ExecuteTime": {
     "end_time": "2025-10-28T08:35:06.736699Z",
     "start_time": "2025-10-28T08:35:05.476239Z"
    }
   },
   "source": [
    "from typing import TypedDict\n",
    "from dotenv import load_dotenv\n",
    "from langgraph.graph import StateGraph\n",
    "\n",
    "load_dotenv()"
   ],
   "outputs": [
    {
     "data": {
      "text/plain": [
       "True"
      ]
     },
     "execution_count": 1,
     "metadata": {},
     "output_type": "execute_result"
    }
   ],
   "execution_count": 1
  },
  {
   "metadata": {
    "ExecuteTime": {
     "end_time": "2025-10-28T08:35:11.349076Z",
     "start_time": "2025-10-28T08:35:06.797567Z"
    }
   },
   "cell_type": "code",
   "source": [
    "from IPython.core.display import Image\n",
    "from langchain_core.messages import SystemMessage, HumanMessage\n",
    "from langgraph.constants import START, END\n",
    "from langchain_community.tools import TavilySearchResults\n",
    "\n",
    "from langchain_openai import ChatOpenAI\n",
    "llm = ChatOpenAI(model=\"gpt-4o\", temperature=0)\n",
    "\n",
    "class State(TypedDict):\n",
    "    Team_Name: str\n",
    "    Budget: float\n",
    "    Driver_DB: str\n",
    "    Race_Engineer_DB: str\n",
    "\n",
    "    final_answer: str\n",
    "\n",
    "def search_web_driver(State: State):\n",
    "\n",
    "    \"\"\" Retrieve driver details from web search \"\"\"\n",
    "\n",
    "    # Search\n",
    "    tavily_search = TavilySearchResults(max_results=3)\n",
    "    search_docs = tavily_search.invoke(\"F1 and F2 drivers in 2023-2025 and their Salary \")\n",
    "\n",
    "     # Format\n",
    "    formatted_search_docs = \"\\n\\n---\\n\\n\".join(\n",
    "        [\n",
    "            f'<Document href=\"{doc[\"url\"]}\">\\n{doc[\"content\"]}\\n</Document>'\n",
    "            for doc in search_docs\n",
    "        ]\n",
    "    )\n",
    "\n",
    "    return {\"Driver_DB\": [formatted_search_docs]}\n",
    "\n",
    "def search_web_Engineer(State: State):\n",
    "\n",
    "    \"\"\" Retrieve Engineer details from web search \"\"\"\n",
    "\n",
    "    # Search\n",
    "    tavily_search = TavilySearchResults(max_results=3)\n",
    "    search_docs = tavily_search.invoke(\"F1 Race Engineers in 2023-2025 \")\n",
    "\n",
    "     # Format\n",
    "    formatted_search_docs = \"\\n\\n---\\n\\n\".join(\n",
    "        [\n",
    "            f'<Document href=\"{doc[\"url\"]}\">\\n{doc[\"content\"]}\\n</Document>'\n",
    "            for doc in search_docs\n",
    "        ]\n",
    "    )\n",
    "\n",
    "    return {\"Race_Engineer_DB\": [formatted_search_docs]}\n",
    "\n",
    "def Fix_Budget(State: State):\n",
    "    \"\"\"Use this to get the Budget as Input\"\"\"\n",
    "    return {\"Budget\": int(input(\"Enter Budget: \"))}\n",
    "\n",
    "def Team_Name(State: State):\n",
    "    \"\"\"Use this to get the Team Name as Input\"\"\"\n",
    "    return {\"Team_Name\": input(\"Enter Team Name: \")}\n",
    "\n",
    "def Compiler(State: State):\n",
    "    \"\"\"Use this to Compile the Data and Make suggestions\"\"\"\n",
    "\n",
    "\n",
    "    answer_template = \"\"\"You are a F1 Team Pricipal for {Team}\n",
    "                        and you need to make a suggestion of drivers and Race Engineers from {DriverDB} and {RaceEngineerDB} and you have to fit within the given Budget {Budget}. One world class F1 driver, 1 second seat driver and 2 F2 drivers for Future Growth and 2 Race Engineers\n",
    "                        \"\"\"\n",
    "    answer_instructions = answer_template.format(Team=State[\"Team_Name\"], DriverDB=State[\"Driver_DB\"],RaceEngineerDB=State[\"Race_Engineer_DB\"],Budget=State[\"Budget\"])\n",
    "\n",
    "    answer = llm.invoke([SystemMessage(content=answer_instructions)]+[HumanMessage(content=f\"Answer the question.\")])\n",
    "\n",
    "    return {\"final_answer\": answer}\n",
    "\n",
    "builder = StateGraph(State)\n",
    "\n",
    "builder.add_node(\"Team Name\",Team_Name)\n",
    "builder.add_node(\"Driver Details\",search_web_driver)\n",
    "builder.add_node(\"Race Engineer Details\",search_web_Engineer)\n",
    "builder.add_node(\"Budget Details\",Fix_Budget)\n",
    "builder.add_node(\"Compiler\",Compiler)\n",
    "\n",
    "builder.add_edge(START,\"Team Name\")\n",
    "builder.add_edge(\"Team Name\",\"Driver Details\")\n",
    "builder.add_edge(\"Team Name\",\"Race Engineer Details\")\n",
    "builder.add_edge(\"Team Name\",\"Budget Details\")\n",
    "\n",
    "builder.add_edge(\"Driver Details\",\"Compiler\")\n",
    "builder.add_edge(\"Race Engineer Details\",\"Compiler\")\n",
    "builder.add_edge(\"Budget Details\",\"Compiler\")\n",
    "builder.add_edge(\"Compiler\",END)\n",
    "\n",
    "graph = builder.compile()\n",
    "\n",
    "display(Image(graph.get_graph().draw_mermaid_png()))\n"
   ],
   "id": "70574294b96c8889",
   "outputs": [
    {
     "data": {
      "image/png": "[encoded data removed]",
      "text/plain": [
       "<IPython.core.display.Image object>"
      ]
     },
     "metadata": {},
     "output_type": "display_data"
    }
   ],
   "execution_count": 2
  },
  {
   "metadata": {
    "ExecuteTime": {
     "end_time": "2025-10-28T08:36:43.603134Z",
     "start_time": "2025-10-28T08:36:18.368644Z"
    }
   },
   "cell_type": "code",
   "source": "result = graph.invoke({})",
   "id": "49bad69418fd3e82",
   "outputs": [],
   "execution_count": 5
  },
  {
   "metadata": {
    "ExecuteTime": {
     "end_time": "2025-10-28T08:36:43.631781Z",
     "start_time": "2025-10-28T08:36:43.625488Z"
    }
   },
   "cell_type": "code",
   "source": "print(result['final_answer'].content)",
   "id": "cb9b1b8d4d0658d4",
   "outputs": [
    {
     "name": "stdout",
     "output_type": "stream",
     "text": [
      "To fit within the given budget of $32,000,000, we need to strategically select drivers and race engineers. Here's a suggestion:\n",
      "\n",
      "1. **World Class F1 Driver:**\n",
      "   - **George Russell (Mercedes)**: $15 million\n",
      "     - Russell is a strong performer and offers good value for his salary compared to the top earners like Verstappen and Hamilton.\n",
      "\n",
      "2. **Second Seat Driver:**\n",
      "   - **Carlos Sainz (Williams)**: $10 million\n",
      "     - Sainz is experienced and has shown consistent performance, making him a solid choice for the second seat.\n",
      "\n",
      "3. **F2 Drivers for Future Growth:**\n",
      "   - **Oliver Bearman (Haas)**: $1 million\n",
      "   - **Liam Lawson (Red Bull)**: $1 million\n",
      "     - Both Bearman and Lawson are promising young talents with experience as test and reserve drivers, making them ideal for future growth.\n",
      "\n",
      "4. **Race Engineers:**\n",
      "   - **Marcus Dudley (Mercedes-AMG F1 Team)**\n",
      "     - Dudley has a long history with Mercedes and has contributed to several victories, making him a valuable asset.\n",
      "   - **Will Joseph (McLaren)**\n",
      "     - Joseph has a strong working relationship with Lando Norris and brings experience and stability to the team.\n",
      "\n",
      "**Total Cost:**\n",
      "- George Russell: $15 million\n",
      "- Carlos Sainz: $10 million\n",
      "- Oliver Bearman: $1 million\n",
      "- Liam Lawson: $1 million\n",
      "- Race Engineers: Typically, race engineers' salaries are not publicly disclosed, but they are generally much lower than driver salaries. Assuming a combined cost of $5 million for both engineers, which is a generous estimate.\n",
      "\n",
      "**Total Estimated Budget: $32 million**\n",
      "\n",
      "This lineup provides a balance of experienced talent and future potential while staying within the budget.\n"
     ]
    }
   ],
   "execution_count": 6
  }
 ],
 "metadata": {
  "kernelspec": {
   "display_name": "Python 3",
   "language": "python",
   "name": "python3"
  },
  "language_info": {
   "codemirror_mode": {
    "name": "ipython",
    "version": 2
   },
   "file_extension": ".py",
   "mimetype": "text/x-python",
   "name": "python",
   "nbconvert_exporter": "python",
   "pygments_lexer": "ipython2",
   "version": "2.7.6"
  }
 },
 "nbformat": 4,
 "nbformat_minor": 5
}
