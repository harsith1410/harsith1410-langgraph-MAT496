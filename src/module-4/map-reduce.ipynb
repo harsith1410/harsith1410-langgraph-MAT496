{
 "cells": [
  {
   "cell_type": "markdown",
   "id": "4cd4f701",
   "metadata": {},
   "source": [
    "[![Open in Colab](https://colab.research.google.com/assets/colab-badge.svg)](https://colab.research.google.com/github/langchain-ai/langchain-academy/blob/main/module-4/map-reduce.ipynb) [![Open in LangChain Academy](https://cdn.prod.website-files.com/65b8cd72835ceeacd4449a53/66e9eba12c7b7688aa3dbb5e_LCA-badge-green.svg)](https://academy.langchain.com/courses/take/intro-to-langgraph/lessons/58239947-lesson-3-map-reduce)"
   ]
  },
  {
   "cell_type": "markdown",
   "id": "36737349-c949-4d64-9aa3-3767cbd02ad1",
   "metadata": {},
   "source": [
    "# Map-reduce\n",
    "\n",
    "## Review\n",
    "\n",
    "We're building up to a multi-agent research assistant that ties together all of the modules from this course.\n",
    "\n",
    "To build this multi-agent assistant, we've been introducing a few LangGraph controllability topics.\n",
    "\n",
    "We just covered parallelization and sub-graphs.\n",
    "\n",
    "## Goals\n",
    "\n",
    "Now, we're going to cover [map reduce](https://langchain-ai.github.io/langgraph/how-tos/map-reduce/)."
   ]
  },
  {
   "cell_type": "code",
   "id": "f24e95c8",
   "metadata": {
    "ExecuteTime": {
     "end_time": "2025-10-31T07:47:22.412992Z",
     "start_time": "2025-10-31T07:47:22.399954Z"
    }
   },
   "source": [
    "from langchain_core.messages import SystemMessage\n",
    "\n"
   ],
   "outputs": [],
   "execution_count": 10
  },
  {
   "cell_type": "code",
   "id": "ff57cbf7",
   "metadata": {
    "ExecuteTime": {
     "end_time": "2025-10-31T07:39:16.249198Z",
     "start_time": "2025-10-31T07:39:14.401163Z"
    }
   },
   "source": [
    "from dotenv import load_dotenv\n",
    "import operator\n",
    "from typing import Annotated, List\n",
    "from typing_extensions import TypedDict\n",
    "\n",
    "from langchain_openai import ChatOpenAI\n",
    "from langgraph.graph import StateGraph, END, START\n",
    "from langgraph.types import Send\n",
    "from pydantic import BaseModel\n",
    "\n",
    "load_dotenv()"
   ],
   "outputs": [
    {
     "data": {
      "text/plain": [
       "True"
      ]
     },
     "execution_count": 1,
     "metadata": {},
     "output_type": "execute_result"
    }
   ],
   "execution_count": 1
  },
  {
   "cell_type": "markdown",
   "id": "cbcd868a",
   "metadata": {},
   "source": [
    "We'll use [LangSmith](https://docs.smith.langchain.com/) for [tracing](https://docs.smith.langchain.com/concepts/tracing)."
   ]
  },
  {
   "cell_type": "code",
   "id": "099218ca-ee78-4291-95a1-87ee61382e3b",
   "metadata": {
    "ExecuteTime": {
     "end_time": "2025-10-31T07:47:33.822187Z",
     "start_time": "2025-10-31T07:47:33.817039Z"
    }
   },
   "source": [
    "class F1RaceReportState(TypedDict):\n",
    "    race_name: str\n",
    "    sessions: List[str]\n",
    "    summaries: Annotated[list, operator.add]\n",
    "    final_report: str\n",
    "\n",
    "\n",
    "class Sessions(BaseModel):\n",
    "\n",
    "    sessions: List[str]\n",
    "\n",
    "class Summary(BaseModel):\n",
    "\n",
    "    summary: str\n",
    "\n",
    "class FinalReport(BaseModel):\n",
    "\n",
    "    report: str"
   ],
   "outputs": [],
   "execution_count": 16
  },
  {
   "cell_type": "code",
   "id": "45010efd-ad31-4daa-b77e-aaec79ef0309",
   "metadata": {
    "ExecuteTime": {
     "end_time": "2025-10-31T07:49:49.405023Z",
     "start_time": "2025-10-31T07:49:49.120413Z"
    }
   },
   "source": [
    "from IPython.core.display import Image\n",
    "\n",
    "llm = ChatOpenAI(model=\"gpt-4o\", temperature=0)\n",
    "sys_message = SystemMessage(\"Whatever you wanna do do not use more than 100 to 150 words.\")\n",
    "\n",
    "\n",
    "def generate_sessions(state: F1RaceReportState):\n",
    "    \"\"\"\n",
    "    Node 1: (Map) - Generates the list of sub-tasks.\n",
    "\n",
    "    Takes the race name and identifies key sessions to analyze. This is the\n",
    "    first step in the \"map\" phase.\n",
    "    \"\"\"\n",
    "    prompt = f\"Generate a list of 3 key sessions from the F1 race weekend for the '{state['race_name']}'. Examples include Qualifying, Sprint Race, or Main Race.\"\n",
    "    input = [sys_message, prompt]\n",
    "\n",
    "    response = llm.with_structured_output(Sessions).invoke(input)\n",
    "    return {\"sessions\": response.sessions}\n",
    "\n",
    "\n",
    "def summarize_session(state: dict):\n",
    "    \"\"\"\n",
    "    Node 2: (Map) - This node is run in parallel for each session.\n",
    "\n",
    "    It receives a single session and the race name, generates a summary,\n",
    "    and appends it to the overall state's `summaries` list.\n",
    "    \"\"\"\n",
    "    prompt = f\"Provide a concise summary of the '{state['session']}' for the '{state['race_name']}'.\"\n",
    "    input = [sys_message, prompt]\n",
    "    response = llm.with_structured_output(Summary).invoke(input)\n",
    "    return {\"summaries\": [response.summary]}\n",
    "\n",
    "\n",
    "def create_final_report(state: F1RaceReportState):\n",
    "    \"\"\"\n",
    "    Node 3: (Reduce) - Aggregates the parallel outputs into a final result.\n",
    "\n",
    "    Takes all the individual summaries and synthesizes them into a single,\n",
    "    cohesive report.\n",
    "    \"\"\"\n",
    "    summaries_str = \"\\\\n\\\\n\".join(state[\"summaries\"])\n",
    "\n",
    "    prompt = f\"Synthesize the following session summaries for the '{state['race_name']}' into a single, cohesive final report:\\\\n\\\\n{summaries_str}\"\n",
    "    input = [sys_message, prompt]\n",
    "\n",
    "    response = llm.with_structured_output(FinalReport).invoke(input)\n",
    "    return {\"final_report\": response.report}\n",
    "\n",
    "\n",
    "def continue_to_summary(state: F1RaceReportState):\n",
    "    \"\"\"\n",
    "    This function is used for conditional edging. It directs the graph to call\n",
    "    the `summarize_session` node for each session identified. It uses `Send`\n",
    "    to dynamically dispatch parallel tasks.\n",
    "    \"\"\"\n",
    "\n",
    "    return [Send(\"summarize_session\", {\"session\": s, \"race_name\": state[\"race_name\"]}) for s in state[\"sessions\"]]\n",
    "\n",
    "\n",
    "\n",
    "workflow = StateGraph(F1RaceReportState)\n",
    "\n",
    "\n",
    "workflow.add_node(\"generate_sessions\", generate_sessions)\n",
    "workflow.add_node(\"summarize_session\", summarize_session)\n",
    "workflow.add_node(\"create_final_report\", create_final_report)\n",
    "\n",
    "\n",
    "workflow.add_edge(START, \"generate_sessions\")\n",
    "workflow.add_conditional_edges(\"generate_sessions\", continue_to_summary, [\"summarize_session\"])\n",
    "workflow.add_edge(\"summarize_session\", \"create_final_report\")\n",
    "workflow.add_edge(\"create_final_report\", END)\n",
    "\n",
    "\n",
    "graph = workflow.compile()\n",
    "display(Image(graph.get_graph(xray=1).draw_mermaid_png()))"
   ],
   "outputs": [
    {
     "data": {
      "image/png": "[encoded data removed]",
      "text/plain": [
       "<IPython.core.display.Image object>"
      ]
     },
     "metadata": {},
     "output_type": "display_data"
    }
   ],
   "execution_count": 19
  },
  {
   "cell_type": "code",
   "id": "bc83e575-11f6-41a9-990a-adb571bcda06",
   "metadata": {
    "ExecuteTime": {
     "end_time": "2025-10-31T07:50:32.415581Z",
     "start_time": "2025-10-31T07:50:18.454891Z"
    }
   },
   "source": [
    "inputs = {\"race_name\": \"2024 British Grand Prix\"}\n",
    "\n",
    "\n",
    "\n",
    "final_state = None\n",
    "for s in graph.stream(inputs, stream_mode=\"values\"):\n",
    "    final_state = s\n",
    "    print(s)\n",
    "    print(\"---\")\n",
    "\n",
    "\n",
    "print(\"--- Final Race Report ---\")\n",
    "print(final_state[\"final_report\"])"
   ],
   "outputs": [
    {
     "name": "stdout",
     "output_type": "stream",
     "text": [
      "{'race_name': '2024 British Grand Prix', 'summaries': []}\n",
      "---\n",
      "{'race_name': '2024 British Grand Prix', 'sessions': ['Qualifying Session: Determines the starting grid for the main race, held on Saturday afternoon.', 'Sprint Race: A shorter race on Saturday that offers points and can impact the main race grid.', 'Main Race: The highlight event on Sunday, where drivers compete for the Grand Prix victory.'], 'summaries': []}\n",
      "---\n",
      "{'race_name': '2024 British Grand Prix', 'sessions': ['Qualifying Session: Determines the starting grid for the main race, held on Saturday afternoon.', 'Sprint Race: A shorter race on Saturday that offers points and can impact the main race grid.', 'Main Race: The highlight event on Sunday, where drivers compete for the Grand Prix victory.'], 'summaries': [\"The qualifying session for the 2024 British Grand Prix is a crucial event held on Saturday afternoon, determining the starting positions for the main race. Drivers compete to set the fastest lap times, with the session typically divided into three segments: Q1, Q2, and Q3. The slowest drivers are eliminated in each segment, leaving the fastest to compete for pole position in Q3. The results of this session set the grid order for the race, impacting strategy and potential race outcomes. Weather conditions, track performance, and team strategies play significant roles in the session's dynamics.\", 'The Sprint Race at the 2024 British Grand Prix is a shorter race held on Saturday, designed to add excitement and strategic depth to the race weekend. It offers drivers the opportunity to earn additional championship points, with the top eight finishers receiving points. The outcome of the Sprint Race can also influence the starting grid for the main race on Sunday, as the finishing order determines the grid positions. This format aims to enhance competition and provide fans with more racing action throughout the weekend.', \"The 2024 British Grand Prix's Main Race is the pinnacle event held on Sunday, where top drivers from around the world compete for the prestigious Grand Prix victory. Taking place at the iconic Silverstone Circuit, the race is a thrilling showcase of speed, strategy, and skill. Fans eagerly anticipate this event as drivers navigate the challenging track, aiming for the podium. The race not only tests the drivers' abilities but also the teams' strategies and car performance. With its rich history and passionate fanbase, the British Grand Prix remains a highlight of the Formula 1 calendar.\"]}\n",
      "---\n",
      "{'race_name': '2024 British Grand Prix', 'sessions': ['Qualifying Session: Determines the starting grid for the main race, held on Saturday afternoon.', 'Sprint Race: A shorter race on Saturday that offers points and can impact the main race grid.', 'Main Race: The highlight event on Sunday, where drivers compete for the Grand Prix victory.'], 'summaries': [\"The qualifying session for the 2024 British Grand Prix is a crucial event held on Saturday afternoon, determining the starting positions for the main race. Drivers compete to set the fastest lap times, with the session typically divided into three segments: Q1, Q2, and Q3. The slowest drivers are eliminated in each segment, leaving the fastest to compete for pole position in Q3. The results of this session set the grid order for the race, impacting strategy and potential race outcomes. Weather conditions, track performance, and team strategies play significant roles in the session's dynamics.\", 'The Sprint Race at the 2024 British Grand Prix is a shorter race held on Saturday, designed to add excitement and strategic depth to the race weekend. It offers drivers the opportunity to earn additional championship points, with the top eight finishers receiving points. The outcome of the Sprint Race can also influence the starting grid for the main race on Sunday, as the finishing order determines the grid positions. This format aims to enhance competition and provide fans with more racing action throughout the weekend.', \"The 2024 British Grand Prix's Main Race is the pinnacle event held on Sunday, where top drivers from around the world compete for the prestigious Grand Prix victory. Taking place at the iconic Silverstone Circuit, the race is a thrilling showcase of speed, strategy, and skill. Fans eagerly anticipate this event as drivers navigate the challenging track, aiming for the podium. The race not only tests the drivers' abilities but also the teams' strategies and car performance. With its rich history and passionate fanbase, the British Grand Prix remains a highlight of the Formula 1 calendar.\"], 'final_report': \"The 2024 British Grand Prix weekend at Silverstone was a thrilling showcase of speed and strategy. The qualifying session on Saturday set the stage, with drivers battling through Q1, Q2, and Q3 to secure their starting positions for the main race. Weather and team strategies played pivotal roles in determining the grid order.\\n\\nAdding to the excitement, the Sprint Race offered a dynamic twist, allowing drivers to earn extra championship points and influence Sunday's starting grid. The top eight finishers gained valuable points, intensifying the competition.\\n\\nThe main event on Sunday saw drivers tackle the iconic circuit, with fans witnessing a blend of skill and strategy. The British Grand Prix, steeped in history, remains a highlight of the Formula 1 calendar, captivating audiences with its high-speed drama and competitive spirit.\"}\n",
      "---\n",
      "--- Final Race Report ---\n",
      "The 2024 British Grand Prix weekend at Silverstone was a thrilling showcase of speed and strategy. The qualifying session on Saturday set the stage, with drivers battling through Q1, Q2, and Q3 to secure their starting positions for the main race. Weather and team strategies played pivotal roles in determining the grid order.\n",
      "\n",
      "Adding to the excitement, the Sprint Race offered a dynamic twist, allowing drivers to earn extra championship points and influence Sunday's starting grid. The top eight finishers gained valuable points, intensifying the competition.\n",
      "\n",
      "The main event on Sunday saw drivers tackle the iconic circuit, with fans witnessing a blend of skill and strategy. The British Grand Prix, steeped in history, remains a highlight of the Formula 1 calendar, captivating audiences with its high-speed drama and competitive spirit.\n"
     ]
    }
   ],
   "execution_count": 21
  },
  {
   "attachments": {},
   "cell_type": "markdown",
   "id": "2a96517e-77ab-46e2-95e2-79168c044e9c",
   "metadata": {},
   "source": [
    "## Studio\n",
    "\n",
    "**⚠️ DISCLAIMER**\n",
    "\n",
    "Since the filming of these videos, we've updated Studio so that it can be run locally and opened in your browser. This is now the preferred way to run Studio (rather than using the Desktop App as shown in the video). See documentation [here](https://langchain-ai.github.io/langgraph/concepts/langgraph_studio/#local-development-server) on the local development server and [here](https://langchain-ai.github.io/langgraph/how-tos/local-studio/#run-the-development-server). To start the local development server, run the following command in your terminal in the `/studio` directory in this module:\n",
    "\n",
    "```\n",
    "langgraph dev\n",
    "```\n",
    "\n",
    "You should see the following output:\n",
    "```\n",
    "- 🚀 API: http://127.0.0.1:2024\n",
    "- 🎨 Studio UI: https://smith.langchain.com/studio/?baseUrl=http://127.0.0.1:2024\n",
    "- 📚 API Docs: http://127.0.0.1:2024/docs\n",
    "```\n",
    "\n",
    "Open your browser and navigate to the Studio UI: `https://smith.langchain.com/studio/?baseUrl=http://127.0.0.1:2024`.\n",
    "\n",
    "Let's load our the above graph in the Studio UI, which uses `module-4/studio/map_reduce.py` set in `module-4/studio/langgraph.json`."
   ]
  },
  {
   "cell_type": "code",
   "execution_count": null,
   "id": "741a5e45-9a4c-43b4-8393-9298b3dcda53",
   "metadata": {},
   "outputs": [],
   "source": []
  }
 ],
 "metadata": {
  "kernelspec": {
   "display_name": "Python 3 (ipykernel)",
   "language": "python",
   "name": "python3"
  },
  "language_info": {
   "codemirror_mode": {
    "name": "ipython",
    "version": 3
   },
   "file_extension": ".py",
   "mimetype": "text/x-python",
   "name": "python",
   "nbconvert_exporter": "python",
   "pygments_lexer": "ipython3",
   "version": "3.12.1"
  }
 },
 "nbformat": 4,
 "nbformat_minor": 5
}
