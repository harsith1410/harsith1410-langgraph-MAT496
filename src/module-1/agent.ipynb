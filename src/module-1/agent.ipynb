{
 "cells": [
  {
   "cell_type": "markdown",
   "id": "6a44f010",
   "metadata": {},
   "source": [
    "[![Open in Colab](https://colab.research.google.com/assets/colab-badge.svg)](https://colab.research.google.com/github/langchain-ai/langchain-academy/blob/main/module-1/agent.ipynb) [![Open in LangChain Academy](https://cdn.prod.website-files.com/65b8cd72835ceeacd4449a53/66e9eba12c7b7688aa3dbb5e_LCA-badge-green.svg)](https://academy.langchain.com/courses/take/intro-to-langgraph/lessons/58239232-lesson-6-agent)"
   ]
  },
  {
   "attachments": {},
   "cell_type": "markdown",
   "id": "98f5e36a-da49-4ae2-8c74-b910a2f992fc",
   "metadata": {},
   "source": [
    "# Agent\n",
    "\n",
    "## Review\n",
    "\n",
    "We built a router.\n",
    "\n",
    "* Our chat model will decide to make a tool call or not based upon the user input\n",
    "* We use a conditional edge to route to a node that will call our tool or simply end\n",
    "\n",
    "![Screenshot 2024-08-21 at 12.44.33 PM.png](https://cdn.prod.website-files.com/65b8cd72835ceeacd4449a53/66dbac0ba0bd34b541c448cc_agent1.png)\n",
    "\n",
    "## Goals\n",
    "\n",
    "Now, we can extend this into a generic agent architecture.\n",
    "\n",
    "In the above router, we invoked the model and, if it chose to call a tool, we returned a `ToolMessage` to the user.\n",
    " \n",
    "But, what if we simply pass that `ToolMessage` *back to the model*?\n",
    "\n",
    "We can let it either (1) call another tool or (2) respond directly.\n",
    "\n",
    "This is the intuition behind [ReAct](https://react-lm.github.io/), a general agent architecture.\n",
    "  \n",
    "* `act` - let the model call specific tools \n",
    "* `observe` - pass the tool output back to the model \n",
    "* `reason` - let the model reason about the tool output to decide what to do next (e.g., call another tool or just respond directly)\n",
    "\n",
    "This [general purpose architecture](https://blog.langchain.dev/planning-for-agents/) can be applied to many types of tools. \n",
    "\n",
    "![Screenshot 2024-08-21 at 12.45.43 PM.png](https://cdn.prod.website-files.com/65b8cd72835ceeacd4449a53/66dbac0b4a2c1e5e02f3e78b_agent2.png)"
   ]
  },
  {
   "cell_type": "code",
   "execution_count": null,
   "id": "63edff5a-724b-474d-9db8-37f0ae936c76",
   "metadata": {},
   "outputs": [],
   "source": [
    "from langchain_community.tools import TavilySearchResults\n",
    "%%capture --no-stderr\n",
    "%pip install --quiet -U langchain_openai langchain_core langgraph langgraph-prebuilt"
   ]
  },
  {
   "cell_type": "code",
   "id": "356a6482",
   "metadata": {
    "ExecuteTime": {
     "end_time": "2025-10-16T11:03:49.779236Z",
     "start_time": "2025-10-16T11:03:49.765086Z"
    }
   },
   "source": [
    "from dotenv import load_dotenv\n",
    "\n",
    "load_dotenv()"
   ],
   "outputs": [
    {
     "data": {
      "text/plain": [
       "True"
      ]
     },
     "execution_count": 1,
     "metadata": {},
     "output_type": "execute_result"
    }
   ],
   "execution_count": 1
  },
  {
   "cell_type": "markdown",
   "id": "dba35a12",
   "metadata": {},
   "source": [
    "Here, we'll use [LangSmith](https://docs.smith.langchain.com/) for [tracing](https://docs.smith.langchain.com/concepts/tracing).\n",
    "\n",
    "We'll log to a project, `langchain-academy`."
   ]
  },
  {
   "cell_type": "code",
   "id": "71795ff1-d6a7-448d-8b55-88bbd1ed3dbe",
   "metadata": {
    "ExecuteTime": {
     "end_time": "2025-10-16T11:20:14.889250Z",
     "start_time": "2025-10-16T11:20:14.876406Z"
    }
   },
   "source": [
    "from langchain_openai import ChatOpenAI\n",
    "from langchain_tavily import TavilySearch\n",
    "\n",
    "def multiply(a: int, b: int) -> int:\n",
    "    \"\"\"Multiply a and b.\n",
    "\n",
    "    Args:\n",
    "        a: first int\n",
    "        b: second int\n",
    "    \"\"\"\n",
    "    return a * b\n",
    "\n",
    "# This will be a tool\n",
    "def add(a: int, b: int) -> int:\n",
    "    \"\"\"Adds a and b.\n",
    "\n",
    "    Args:\n",
    "        a: first int\n",
    "        b: second int\n",
    "    \"\"\"\n",
    "    return a + b\n",
    "\n",
    "def divide(a: int, b: int) -> int:\n",
    "    \"\"\"Divide a and b.\n",
    "\n",
    "    Args:\n",
    "        a: first int\n",
    "        b: second int\n",
    "    \"\"\"\n",
    "    return a // b\n",
    "\n",
    "def subtract(a: int, b: int) -> int:\n",
    "    \"\"\"Subtract a and b.\n",
    "\n",
    "    Args:\n",
    "        a: first int\n",
    "        b: second int\n",
    "    \"\"\"\n",
    "    return a - b\n",
    "\n",
    "def web_search(search:str) -> str:\n",
    "\n",
    "    \"\"\"Whenever the user asks you to search something from the web and find the content use this method\"\"\"\n",
    "\n",
    "    result = TavilySearch(max_results=1).invoke(search)\n",
    "\n",
    "    return result\n",
    "\n",
    "\n",
    "tools = [add, multiply, divide, subtract,web_search]\n",
    "llm = ChatOpenAI(model=\"gpt-5-nano-2025-08-07\")\n",
    "\n",
    "# For this ipynb we set parallel tool calling to false as math generally is done sequentially, and this time we have 3 tools that can do math\n",
    "# the OpenAI model specifically defaults to parallel tool calling for efficiency, see https://python.langchain.com/docs/how_to/tool_calling_parallel/\n",
    "# play around with it and see how the model behaves with math equations!\n",
    "llm_with_tools = llm.bind_tools(tools, parallel_tool_calls=False)"
   ],
   "outputs": [],
   "execution_count": 10
  },
  {
   "cell_type": "markdown",
   "id": "a2cec014-3023-405c-be79-de8fc7adb346",
   "metadata": {},
   "source": [
    "Let's create our LLM and prompt it with the overall desired agent behavior."
   ]
  },
  {
   "cell_type": "code",
   "id": "d061813f-ebc0-432c-91ec-3b42b15c30b6",
   "metadata": {
    "ExecuteTime": {
     "end_time": "2025-10-16T11:20:18.966438Z",
     "start_time": "2025-10-16T11:20:18.960558Z"
    }
   },
   "source": [
    "from langgraph.graph import MessagesState\n",
    "from langchain_core.messages import HumanMessage, SystemMessage\n",
    "\n",
    "# System message\n",
    "sys_msg = SystemMessage(content=\"You are a helpful assistant tasked with performing arithmetic on a set of inputs.\")\n",
    "\n",
    "# Node\n",
    "def assistant(state: MessagesState):\n",
    "   return {\"messages\": [llm_with_tools.invoke([sys_msg] + state[\"messages\"])]}"
   ],
   "outputs": [],
   "execution_count": 11
  },
  {
   "cell_type": "markdown",
   "id": "4eb43343-9a6f-42cb-86e6-4380f928633c",
   "metadata": {},
   "source": [
    "As before, we use `MessagesState` and define a `Tools` node with our list of tools.\n",
    "\n",
    "The `Assistant` node is just our model with bound tools.\n",
    "\n",
    "We create a graph with `Assistant` and `Tools` nodes.\n",
    "\n",
    "We add `tools_condition` edge, which routes to `End` or to `Tools` based on  whether the `Assistant` calls a tool.\n",
    "\n",
    "Now, we add one new step:\n",
    "\n",
    "We connect the `Tools` node *back* to the `Assistant`, forming a loop.\n",
    "\n",
    "* After the `assistant` node executes, `tools_condition` checks if the model's output is a tool call.\n",
    "* If it is a tool call, the flow is directed to the `tools` node.\n",
    "* The `tools` node connects back to `assistant`.\n",
    "* This loop continues as long as the model decides to call tools.\n",
    "* If the model response is not a tool call, the flow is directed to END, terminating the process."
   ]
  },
  {
   "cell_type": "code",
   "id": "aef13cd4-05a6-4084-a620-2e7b91d9a72f",
   "metadata": {
    "ExecuteTime": {
     "end_time": "2025-10-16T11:20:21.547386Z",
     "start_time": "2025-10-16T11:20:21.206228Z"
    }
   },
   "source": [
    "from langgraph.graph import START, StateGraph\n",
    "from langgraph.prebuilt import tools_condition\n",
    "from langgraph.prebuilt import ToolNode\n",
    "from IPython.display import Image, display\n",
    "\n",
    "# Graph\n",
    "builder = StateGraph(MessagesState)\n",
    "\n",
    "# Define nodes: these do the work\n",
    "builder.add_node(\"assistant\", assistant)\n",
    "builder.add_node(\"tools\", ToolNode(tools))\n",
    "\n",
    "# Define edges: these determine how the control flow moves\n",
    "builder.add_edge(START, \"assistant\")\n",
    "builder.add_conditional_edges(\n",
    "    \"assistant\",\n",
    "    # If the latest message (result) from assistant is a tool call -> tools_condition routes to tools\n",
    "    # If the latest message (result) from assistant is a not a tool call -> tools_condition routes to END\n",
    "    tools_condition,\n",
    ")\n",
    "builder.add_edge(\"tools\", \"assistant\")\n",
    "react_graph = builder.compile()\n",
    "\n",
    "# Show\n",
    "display(Image(react_graph.get_graph(xray=True).draw_mermaid_png()))"
   ],
   "outputs": [
    {
     "data": {
      "image/png": "[encoded data removed]",
      "text/plain": [
       "<IPython.core.display.Image object>"
      ]
     },
     "metadata": {},
     "output_type": "display_data"
    }
   ],
   "execution_count": 12
  },
  {
   "cell_type": "code",
   "id": "75602459-d8ca-47b4-9518-3f38343ebfe4",
   "metadata": {
    "ExecuteTime": {
     "end_time": "2025-10-16T11:23:46.760445Z",
     "start_time": "2025-10-16T11:22:31.378480Z"
    }
   },
   "source": [
    "messages = [HumanMessage(content=\"Search for the Constructor Championship points for McLaren in this season and divide it by the number of races that have happened till now\")]\n",
    "messages = react_graph.invoke({\"messages\": messages})"
   ],
   "outputs": [],
   "execution_count": 14
  },
  {
   "cell_type": "code",
   "id": "b517142d-c40c-48bf-a5b8-c8409427aa79",
   "metadata": {
    "ExecuteTime": {
     "end_time": "2025-10-16T11:23:46.787822Z",
     "start_time": "2025-10-16T11:23:46.783663Z"
    }
   },
   "source": [
    "for m in messages['messages']:\n",
    "    m.pretty_print()"
   ],
   "outputs": [
    {
     "name": "stdout",
     "output_type": "stream",
     "text": [
      "================================\u001B[1m Human Message \u001B[0m=================================\n",
      "\n",
      "Search for the Constructor Championship points for McLaren in this season and divide it by the number of races that have happened till now\n",
      "==================================\u001B[1m Ai Message \u001B[0m==================================\n",
      "Tool Calls:\n",
      "  web_search (call_4Tu3EHQlVAzXbJcKmChQCfDY)\n",
      " Call ID: call_4Tu3EHQlVAzXbJcKmChQCfDY\n",
      "  Args:\n",
      "    search: McLaren constructor standings points this season current Formula 1 season points and races completed\n",
      "=================================\u001B[1m Tool Message \u001B[0m=================================\n",
      "Name: web_search\n",
      "\n",
      "{\"query\": \"McLaren constructor standings points this season current Formula 1 season points and races completed\", \"follow_up_questions\": null, \"answer\": null, \"images\": [], \"results\": [{\"url\": \"https://www.mclaren.com/racing/formula-1/standings/\", \"title\": \"Formula 1 - Standings - McLaren\", \"content\": \"1st. Oscar Piastri (AUS). 336 PTS. 2nd. Lando Norris (GBR). 314 PTS. 3rd. Max Verstappen (NED). 273 PTS. 4th. George Russell (GBR). 237 PTS\", \"score\": 0.8029425, \"raw_content\": null}], \"response_time\": 0.95, \"request_id\": \"fa493da5-40a3-47b6-85fe-8966300f2e6b\"}\n",
      "==================================\u001B[1m Ai Message \u001B[0m==================================\n",
      "Tool Calls:\n",
      "  web_search (call_xmqbC0osJCseidPC9lxsN9pB)\n",
      " Call ID: call_xmqbC0osJCseidPC9lxsN9pB\n",
      "  Args:\n",
      "    search: McLaren constructor standings 2025 Formula 1 points races completed\n",
      "=================================\u001B[1m Tool Message \u001B[0m=================================\n",
      "Name: web_search\n",
      "\n",
      "{\"query\": \"McLaren constructor standings 2025 Formula 1 points races completed\", \"follow_up_questions\": null, \"answer\": null, \"images\": [], \"results\": [{\"url\": \"https://www.formula1points.com/season/season-teams/2025\", \"title\": \"F1 standings teams 2025 - Formula 1 points\", \"content\": \"*   [Drivers](https://www.formula1points.com/season/season-teams/2025) [](https://www.formula1points.com/season/season-teams/2025# \\\"search\\\") | Nr |  | Team | Driver | Total | [![Image 5: au.webp](https://www.formula1points.com/images/nations/au.webp)](https://www.formula1points.com/grandprix/Australia-2025 \\\"1. | Nr |  | Team | Driver | Total | [![Image 52: au.webp](https://www.formula1points.com/images/nations/au.webp)](https://www.formula1points.com/grandprix/Australia-2025 \\\"1. | 1 | [McLaren](https://www.formula1points.com/team/McLaren) | ![Image 121: au.webp](https://www.formula1points.com/images/nations/au.webp)[Oscar Piastri](https://www.formula1points.com/driver/Oscar%20Piastri), ![Image 122: gb.webp](https://www.formula1points.com/images/nations/gb.webp)[Lando Norris](https://www.formula1points.com/driver/Lando%20Norris) | 12 | [Australia](https://www.formula1points.com/grandprix/9867), [China](https://www.formula1points.com/grandprix/9868), [Bahrain](https://www.formula1points.com/grandprix/9870), [Saudi Arabia](https://www.formula1points.com/grandprix/9871), [Miami](https://www.formula1points.com/grandprix/9872), [Monaco](https://www.formula1points.com/grandprix/9874), [Spain](https://www.formula1points.com/grandprix/9875), [Austria](https://www.formula1points.com/grandprix/9877), [Great Britain](https://www.formula1points.com/grandprix/9878), [Belgium](https://www.formula1points.com/grandprix/9879), [Hungary](https://www.formula1points.com/grandprix/9880), [Netherlands](https://www.formula1points.com/grandprix/9881) | | 1 | [McLaren](https://www.formula1points.com/team/McLaren) | ![Image 125: gb.webp](https://www.formula1points.com/images/nations/gb.webp)[Lando Norris](https://www.formula1points.com/driver/Lando%20Norris), ![Image 126: au.webp](https://www.formula1points.com/images/nations/au.webp)[Oscar Piastri](https://www.formula1points.com/driver/Oscar%20Piastri) | 11 | [Australia](https://www.formula1points.com/grandprix/9867), [China](https://www.formula1points.com/grandprix/9868), [Bahrain](https://www.formula1points.com/grandprix/9870), [Saudi Arabia](https://www.formula1points.com/grandprix/9871), [Miami](https://www.formula1points.com/grandprix/9872), [Monaco](https://www.formula1points.com/grandprix/9874), [Spain](https://www.formula1points.com/grandprix/9875), [Austria](https://www.formula1points.com/grandprix/9877), [Great Britain](https://www.formula1points.com/grandprix/9878), [Netherlands](https://www.formula1points.com/grandprix/9881), [Italy](https://www.formula1points.com/grandprix/9882) | 0 | | 1 | [McLaren](https://www.formula1points.com/team/McLaren) | ![Image 131: gb.webp](https://www.formula1points.com/images/nations/gb.webp)[Lando Norris](https://www.formula1points.com/driver/Lando%20Norris), ![Image 132: au.webp](https://www.formula1points.com/images/nations/au.webp)[Oscar Piastri](https://www.formula1points.com/driver/Oscar%20Piastri) | 9 | [Australia](https://www.formula1points.com/grandprix/Australia-2025), [China](https://www.formula1points.com/grandprix/China-2025), [Bahrain](https://www.formula1points.com/grandprix/Bahrain-2025), [Emilia Romagna](https://www.formula1points.com/grandprix/Emilia%20Romagna-2025), [Monaco](https://www.formula1points.com/grandprix/Monaco-2025), [Spain](https://www.formula1points.com/grandprix/Spain-2025), [Austria](https://www.formula1points.com/grandprix/Austria-2025), [Belgium](https://www.formula1points.com/grandprix/Belgium-2025), [Netherlands](https://www.formula1points.com/grandprix/Netherlands-2025) |\", \"score\": 0.8732259, \"raw_content\": null}], \"response_time\": 1.14, \"request_id\": \"8934c0c8-da59-48b8-ac48-94f7ac5d788b\"}\n",
      "==================================\u001B[1m Ai Message \u001B[0m==================================\n",
      "Tool Calls:\n",
      "  web_search (call_9z6piEocTM0lspOhaQzMcyhE)\n",
      " Call ID: call_9z6piEocTM0lspOhaQzMcyhE\n",
      "  Args:\n",
      "    search: McLaren constructor standings 2025 points races completed site:formula1.com\n",
      "=================================\u001B[1m Tool Message \u001B[0m=================================\n",
      "Name: web_search\n",
      "\n",
      "{\"query\": \"McLaren constructor standings 2025 points races completed\", \"follow_up_questions\": null, \"answer\": null, \"images\": [], \"results\": [{\"url\": \"https://www.mclaren.com/racing/formula-1/standings/\", \"title\": \"Formula 1 - Standings - McLaren\", \"content\": \"McLaren Plus * Formula 1 * IndyCar * Gaming * Latest * Heritage Store * Articles * Schedule * Team * Standings * F1 Academy * Sustainability ##### Racing Discover more about ##### AutomotiveBrowse the latest jobs ##### Racing Careers ###### Formula 1 # **Standings** 2025 McLaren won the 2025 Constructors’ Championship at the Singapore Grand Prix. Find out where Lando and Oscar sit in the Drivers’ Championship. ###### loading ### **McLAREN Plus** Join the family ### **McLAREN Store** Look the part CareersSustainabilityWallpapers InvestorsMedia CentreCommunity CodeAnti-slavery StatementCookie PolicyPrivacy PolicyContact Us ###### McLAREN Racing ©2025\", \"score\": 0.98504, \"raw_content\": null}], \"response_time\": 1.22, \"request_id\": \"63a15ad0-e94c-4938-9f2e-cd5b50f77864\"}\n",
      "==================================\u001B[1m Ai Message \u001B[0m==================================\n",
      "Tool Calls:\n",
      "  web_search (call_I8G9f04JMrGUy1qrRaMLf9pb)\n",
      " Call ID: call_I8G9f04JMrGUy1qrRaMLf9pb\n",
      "  Args:\n",
      "    search: McLaren 2025 Formula 1 Constructors' Championship points\n",
      "=================================\u001B[1m Tool Message \u001B[0m=================================\n",
      "Name: web_search\n",
      "\n",
      "{\"query\": \"McLaren 2025 Formula 1 Constructors' Championship points\", \"follow_up_questions\": null, \"answer\": null, \"images\": [], \"results\": [{\"url\": \"https://www.formula1.com/en/results/2025/team\", \"title\": \"2025 TEAMS' STANDINGS - F1\", \"content\": \"F1 car: Speed | AramcoImage 10: Iconic Carlos Sainz onboards 36:20 Iconic Carlos Sainz onboardsMore newsMore videosDriversImage 11Alexander AlbonImage 12Fernando AlonsoImage 13Kimi AntonelliImage 14Oliver BearmanImage 15Gabriel BortoletoImage 16Franco ColapintoImage 17Pierre GaslyImage 18Isack HadjarImage 19Lewis HamiltonImage 20Nico HulkenbergImage 21Liam LawsonImage 22Charles LeclercImage 23Lando NorrisImage 24Esteban OconImage 25Oscar PiastriImage 26George RussellImage 27Carlos SainzImage 28Lance StrollImage 29Yuki TsunodaImage 30Max VerstappenAll DriversHall of FameTeamsImage 31AlpineImage 32Image 33Aston MartinImage 34Image 35FerrariImage 36Image 37Haas F1 TeamImage 38Image 39Kick SauberImage 40Image 41McLarenImage 42Image 43MercedesImage 44Image 45Racing BullsImage 46Image 47Red Bull RacingImage 48Image 49WilliamsImage 50All TeamsFantasy & GamingEsportsFantasyF1 25F1 Manager 24F1 PredictF1 Mobile RacingF1 ClashF1 Members' Area | 1 | Image 51McLaren | 650 | | 2 | Image 52Mercedes | 325 | | 3 | Image 53Ferrari | 298 | | 4 | Image 54Red Bull Racing | 290 | | 5 | Image 55Williams | 102 | | 6 | Image 56Racing Bulls | 72 | | 9 | Image 59Haas F1 Team | 46 | | 10 | Image 60Alpine | 20 |\", \"score\": 0.98548, \"raw_content\": null}], \"response_time\": 1.41, \"request_id\": \"f03cd1ee-be97-44ca-9fd3-590d357f4088\"}\n",
      "==================================\u001B[1m Ai Message \u001B[0m==================================\n",
      "Tool Calls:\n",
      "  web_search (call_UmTWsli3bVLP9YzbiaNFDZAk)\n",
      " Call ID: call_UmTWsli3bVLP9YzbiaNFDZAk\n",
      "  Args:\n",
      "    search: 2025 Formula 1 season team standings McLaren 650 points Singapore Grand Prix races completed\n",
      "=================================\u001B[1m Tool Message \u001B[0m=================================\n",
      "Name: web_search\n",
      "\n",
      "{\"query\": \"2025 Formula 1 season team standings McLaren 650 points Singapore Grand Prix races completed\", \"follow_up_questions\": null, \"answer\": null, \"images\": [], \"results\": [{\"url\": \"https://www.si.com/onsi/f1/news/f1-standings-after-singapore-grand-prix-2025-as-mclaren-clinch-the-constructors-title\", \"title\": \"F1 Standings After Singapore Grand Prix 2025 As McLaren Clinch ...\", \"content\": \"F1 Constructor Standings After 2025 Singapore Grand Prix · 1. McLaren. 650 · 2. Mercedes. 325 · 3. Ferrari. 298 · 4. Red Bull. 293 · 5. Williams. 102.\", \"score\": 0.9100432, \"raw_content\": null}], \"response_time\": 1.3, \"request_id\": \"cec948d4-8412-411b-ac39-c25159ccbb71\"}\n",
      "==================================\u001B[1m Ai Message \u001B[0m==================================\n",
      "Tool Calls:\n",
      "  web_search (call_MbMtGtrlDerSKzMRsOM4gCsC)\n",
      " Call ID: call_MbMtGtrlDerSKzMRsOM4gCsC\n",
      "  Args:\n",
      "    search: 2025 Formula 1 season number of races completed after Singapore Grand Prix 2025 races completed list\n",
      "=================================\u001B[1m Tool Message \u001B[0m=================================\n",
      "Name: web_search\n",
      "\n",
      "{\"query\": \"2025 Formula 1 season number of races completed after Singapore Grand Prix 2025 races completed list\", \"follow_up_questions\": null, \"answer\": null, \"images\": [], \"results\": [{\"url\": \"https://www.formula1.com/en/results/2025/races\", \"title\": \"2025 RACE RESULTS - F1\", \"content\": \"| [China](https://www.formula1.com/en/results/2025/races/1255/china/race-result) | 23 Mar | ![Image 53](https://media.formula1.com/image/upload/c_lfill,w_64/q_auto/d_common:f1:2025:fallback:driver:2025fallbackdriverright.webp/v1740000000/common/f1/2025/mclaren/oscpia01/2025mclarenoscpia01right.webp)Oscar Piastri PIA | ![Image 54](https://media.formula1.com/image/upload/c_lfill,w_64/q_auto/v1740000000/common/f1/2025/mclaren/2025mclarenlogowhite.webp)McLaren | 56 | 1:30:55.026 | | [Bahrain](https://www.formula1.com/en/results/2025/races/1257/bahrain/race-result) | 13 Apr | ![Image 57](https://media.formula1.com/image/upload/c_lfill,w_64/q_auto/d_common:f1:2025:fallback:driver:2025fallbackdriverright.webp/v1740000000/common/f1/2025/mclaren/oscpia01/2025mclarenoscpia01right.webp)Oscar Piastri PIA | ![Image 58](https://media.formula1.com/image/upload/c_lfill,w_64/q_auto/v1740000000/common/f1/2025/mclaren/2025mclarenlogowhite.webp)McLaren | 57 | 1:35:39.435 | | [Saudi Arabia](https://www.formula1.com/en/results/2025/races/1258/saudi-arabia/race-result) | 20 Apr | ![Image 59](https://media.formula1.com/image/upload/c_lfill,w_64/q_auto/d_common:f1:2025:fallback:driver:2025fallbackdriverright.webp/v1740000000/common/f1/2025/mclaren/oscpia01/2025mclarenoscpia01right.webp)Oscar Piastri PIA | ![Image 60](https://media.formula1.com/image/upload/c_lfill,w_64/q_auto/v1740000000/common/f1/2025/mclaren/2025mclarenlogowhite.webp)McLaren | 50 | 1:21:06.758 | | [Miami](https://www.formula1.com/en/results/2025/races/1259/miami/race-result) | 04 May | ![Image 61](https://media.formula1.com/image/upload/c_lfill,w_64/q_auto/d_common:f1:2025:fallback:driver:2025fallbackdriverright.webp/v1740000000/common/f1/2025/mclaren/oscpia01/2025mclarenoscpia01right.webp)Oscar Piastri PIA | ![Image 62](https://media.formula1.com/image/upload/c_lfill,w_64/q_auto/v1740000000/common/f1/2025/mclaren/2025mclarenlogowhite.webp)McLaren | 57 | 1:28:51.587 | | [Spain](https://www.formula1.com/en/results/2025/races/1262/spain/race-result) | 01 Jun | ![Image 67](https://media.formula1.com/image/upload/c_lfill,w_64/q_auto/d_common:f1:2025:fallback:driver:2025fallbackdriverright.webp/v1740000000/common/f1/2025/mclaren/oscpia01/2025mclarenoscpia01right.webp)Oscar Piastri PIA | ![Image 68](https://media.formula1.com/image/upload/c_lfill,w_64/q_auto/v1740000000/common/f1/2025/mclaren/2025mclarenlogowhite.webp)McLaren | 66 | 1:32:57.375 | | [Belgium](https://www.formula1.com/en/results/2025/races/1265/belgium/race-result) | 27 Jul | ![Image 75](https://media.formula1.com/image/upload/c_lfill,w_64/q_auto/d_common:f1:2025:fallback:driver:2025fallbackdriverright.webp/v1740000000/common/f1/2025/mclaren/oscpia01/2025mclarenoscpia01right.webp)Oscar Piastri PIA | ![Image 76](https://media.formula1.com/image/upload/c_lfill,w_64/q_auto/v1740000000/common/f1/2025/mclaren/2025mclarenlogowhite.webp)McLaren | 44 | 1:25:22.601 | | [Netherlands](https://www.formula1.com/en/results/2025/races/1267/netherlands/race-result) | 31 Aug | ![Image 79](https://media.formula1.com/image/upload/c_lfill,w_64/q_auto/d_common:f1:2025:fallback:driver:2025fallbackdriverright.webp/v1740000000/common/f1/2025/mclaren/oscpia01/2025mclarenoscpia01right.webp)Oscar Piastri PIA | ![Image 80](https://media.formula1.com/image/upload/c_lfill,w_64/q_auto/v1740000000/common/f1/2025/mclaren/2025mclarenlogowhite.webp)McLaren | 72 | 1:38:29.849 |\", \"score\": 0.80735475, \"raw_content\": null}], \"response_time\": 1.12, \"request_id\": \"81ecddff-1fc8-43f4-8453-3a0341c71329\"}\n",
      "==================================\u001B[1m Ai Message \u001B[0m==================================\n",
      "Tool Calls:\n",
      "  divide (call_jaeUbDg4PWIEVjDPcZuwf0gv)\n",
      " Call ID: call_jaeUbDg4PWIEVjDPcZuwf0gv\n",
      "  Args:\n",
      "    a: 650\n",
      "    b: 16\n",
      "=================================\u001B[1m Tool Message \u001B[0m=================================\n",
      "Name: divide\n",
      "\n",
      "40\n",
      "==================================\u001B[1m Ai Message \u001B[0m==================================\n",
      "\n",
      "McLaren's 2025 Formula 1 Constructors' Championship points after 16 races: 650 points, divided by 16 races equals 40.0.\n"
     ]
    }
   ],
   "execution_count": 15
  },
  {
   "cell_type": "markdown",
   "id": "ad869f22-9bfb-4cbe-9f30-8a307c5cdda2",
   "metadata": {},
   "source": [
    "## LangSmith\n",
    "\n",
    "We can look at traces in LangSmith."
   ]
  }
 ],
 "metadata": {
  "kernelspec": {
   "display_name": "lc-academy-env",
   "language": "python",
   "name": "python3"
  },
  "language_info": {
   "codemirror_mode": {
    "name": "ipython",
    "version": 3
   },
   "file_extension": ".py",
   "mimetype": "text/x-python",
   "name": "python",
   "nbconvert_exporter": "python",
   "pygments_lexer": "ipython3",
   "version": "3.11.8"
  }
 },
 "nbformat": 4,
 "nbformat_minor": 5
}
