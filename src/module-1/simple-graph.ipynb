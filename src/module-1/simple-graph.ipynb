{
 "cells": [
  {
   "cell_type": "markdown",
   "id": "8d5f3703",
   "metadata": {},
   "source": [
    "[![Open in Colab](https://colab.research.google.com/assets/colab-badge.svg)](https://colab.research.google.com/github/langchain-ai/langchain-academy/blob/main/module-1/simple-graph.ipynb) [![Open in LangChain Academy](https://cdn.prod.website-files.com/65b8cd72835ceeacd4449a53/66e9eba12c7b7688aa3dbb5e_LCA-badge-green.svg)](https://academy.langchain.com/courses/take/intro-to-langgraph/lessons/58238187-lesson-2-simple-graph)"
   ]
  },
  {
   "attachments": {},
   "cell_type": "markdown",
   "id": "50fa7f8a-8764-4bb9-9968-48b681a0e4f1",
   "metadata": {},
   "source": [
    "# The Simplest Graph\n",
    "\n",
    "Let's build a simple graph with 3 nodes and one conditional edge. \n",
    "\n",
    "![Screenshot 2024-08-20 at 3.11.22 PM.png](https://cdn.prod.website-files.com/65b8cd72835ceeacd4449a53/66dba5f465f6e9a2482ad935_simple-graph1.png)"
   ]
  },
  {
   "cell_type": "code",
   "id": "ff151ef1-fa30-482a-94da-8f49964afbc3",
   "metadata": {
    "ExecuteTime": {
     "end_time": "2025-10-14T09:45:13.867200Z",
     "start_time": "2025-10-14T09:45:02.243200Z"
    }
   },
   "source": [
    "%%capture --no-stderr\n",
    "%pip install --quiet -U langgraph"
   ],
   "outputs": [
    {
     "name": "stderr",
     "output_type": "stream",
     "text": [
      "\n",
      "[notice] A new release of pip is available: 23.2.1 -> 25.2\n",
      "[notice] To update, run: python.exe -m pip install --upgrade pip\n"
     ]
    }
   ],
   "execution_count": 1
  },
  {
   "cell_type": "markdown",
   "id": "5999f8d0-989f-4638-8ade-5c257cbadfe8",
   "metadata": {},
   "source": [
    "## State\n",
    "\n",
    "First, define the [State](https://langchain-ai.github.io/langgraph/concepts/low_level/#state) of the graph. \n",
    "\n",
    "The State schema serves as the input schema for all Nodes and Edges in the graph.\n",
    "\n",
    "Let's use the `TypedDict` class from python's `typing` module as our schema, which provides type hints for the keys."
   ]
  },
  {
   "cell_type": "code",
   "id": "6a90709b-ddfa-4671-8acc-c59969a29991",
   "metadata": {
    "ExecuteTime": {
     "end_time": "2025-10-14T10:10:06.869067Z",
     "start_time": "2025-10-14T10:10:06.856014Z"
    }
   },
   "source": [
    "from typing_extensions import TypedDict\n",
    "\n",
    "class State(TypedDict):\n",
    "    graph_state: str"
   ],
   "outputs": [],
   "execution_count": 1
  },
  {
   "cell_type": "markdown",
   "id": "888509e1-cbde-4c03-99a0-2560dd2e262d",
   "metadata": {},
   "source": [
    "## Nodes\n",
    "\n",
    "[Nodes](https://langchain-ai.github.io/langgraph/concepts/low_level/#nodes) are just python functions.\n",
    "\n",
    "The first positional argument is the state, as defined above.\n",
    "\n",
    "Because the state is a `TypedDict` with schema as defined above, each node can access the key, `graph_state`, with `state['graph_state']`.\n",
    "\n",
    "Each node returns a new value of the state key `graph_state`.\n",
    "  \n",
    "By default, the new value returned by each node [will override](https://langchain-ai.github.io/langgraph/concepts/low_level/#reducers) the prior state value."
   ]
  },
  {
   "cell_type": "code",
   "id": "e8aabcb7-494c-4d35-be08-f81c76d75a6b",
   "metadata": {
    "ExecuteTime": {
     "end_time": "2025-10-14T10:30:13.609668Z",
     "start_time": "2025-10-14T10:30:13.603735Z"
    }
   },
   "source": [
    "def node_1(state):\n",
    "    print(\"---Node 1---\")\n",
    "    return {\"graph_state\": state['graph_state'] +\" I am\"}\n",
    "\n",
    "def node_2(state):\n",
    "    print(\"---Node 2---\")\n",
    "    return {\"graph_state\": state['graph_state'] +\" happy!\"}\n",
    "\n",
    "def node_3(state):\n",
    "    print(\"---Node 3---\")\n",
    "    return {\"graph_state\": state['graph_state'] +\" sad!\"}\n",
    "\n",
    "def node_4(state):\n",
    "    print(\"---Node 4---\")\n",
    "    return {\"graph_state\": state['graph_state'] +\" \\n This is LangGraph\"}"
   ],
   "outputs": [],
   "execution_count": 34
  },
  {
   "cell_type": "markdown",
   "id": "ad056608-8c8f-4999-bb53-10583efa4ed8",
   "metadata": {},
   "source": [
    "## Edges\n",
    "\n",
    "[Edges](https://langchain-ai.github.io/langgraph/concepts/low_level/#edges) connect the nodes.\n",
    "\n",
    "Normal Edges are used if you want to *always* go from, for example, `node_1` to `node_2`.\n",
    "\n",
    "[Conditional Edges](https://langchain-ai.github.io/langgraph/concepts/low_level/#conditional-edges) are used if you want to *optionally* route between nodes.\n",
    " \n",
    "Conditional edges are implemented as functions that return the next node to visit based upon some logic."
   ]
  },
  {
   "cell_type": "code",
   "id": "7e53543a-902a-4d41-ad3d-25eee260e819",
   "metadata": {
    "ExecuteTime": {
     "end_time": "2025-10-14T10:30:15.465970Z",
     "start_time": "2025-10-14T10:30:15.453101Z"
    }
   },
   "source": [
    "import random\n",
    "from typing import Literal\n",
    "\n",
    "def decide_mood(state) -> Literal[\"node_2\",\"node_3\",]:\n",
    "    \n",
    "    # Often, we will use state to decide on the next node to visit\n",
    "    user_input = state['graph_state'] \n",
    "    \n",
    "    # Here, let's just do a 50 / 50 split between nodes 2, 3\n",
    "    if random.random() < 0.5:\n",
    "\n",
    "        # 50% of the time, we return Node 2\n",
    "        return \"node_2\"\n",
    "\n",
    "    \n",
    "    # 50% of the time, we return Node 3\n",
    "    return \"node_3\""
   ],
   "outputs": [],
   "execution_count": 35
  },
  {
   "cell_type": "markdown",
   "id": "9282ea7a-5ed2-4641-bed8-c3472d54c951",
   "metadata": {},
   "source": [
    "## Graph Construction\n",
    "\n",
    "Now, we build the graph from our [components](\n",
    "https://langchain-ai.github.io/langgraph/concepts/low_level/) defined above.\n",
    "\n",
    "The [StateGraph class](https://langchain-ai.github.io/langgraph/concepts/low_level/#stategraph) is the graph class that we can use.\n",
    " \n",
    "First, we initialize a StateGraph with the `State` class we defined above.\n",
    " \n",
    "Then, we add our nodes and edges.\n",
    "\n",
    "We use the [`START` Node, a special node](https://langchain-ai.github.io/langgraph/concepts/low_level/#start-node) that sends user input to the graph, to indicate where to start our graph.\n",
    " \n",
    "The [`END` Node](https://langchain-ai.github.io/langgraph/concepts/low_level/#end-node) is a special node that represents a terminal node. \n",
    "\n",
    "Finally, we [compile our graph](https://langchain-ai.github.io/langgraph/concepts/low_level/#compiling-your-graph) to perform a few basic checks on the graph structure. \n",
    "\n",
    "We can visualize the graph as a [Mermaid diagram](https://github.com/mermaid-js/mermaid)."
   ]
  },
  {
   "cell_type": "code",
   "id": "7deb0359-55c1-4545-b52e-8252994befbb",
   "metadata": {
    "ExecuteTime": {
     "end_time": "2025-10-14T10:30:18.595105Z",
     "start_time": "2025-10-14T10:30:18.233506Z"
    }
   },
   "source": [
    "from IPython.display import Image, display\n",
    "from langgraph.graph import StateGraph, START, END\n",
    "\n",
    "# Build graph\n",
    "builder = StateGraph(State)\n",
    "builder.add_node(\"node_1\", node_1)\n",
    "builder.add_node(\"node_2\", node_2)\n",
    "builder.add_node(\"node_3\", node_3)\n",
    "builder.add_node(\"node_4\", node_4)\n",
    "\n",
    "# Logic\n",
    "builder.add_edge(START, \"node_1\")\n",
    "builder.add_conditional_edges(\"node_1\", decide_mood)\n",
    "builder.add_edge(\"node_2\", \"node_4\")\n",
    "builder.add_edge(\"node_3\", \"node_4\")\n",
    "builder.add_edge(\"node_4\", END)\n",
    "\n",
    "# Add\n",
    "graph = builder.compile()\n",
    "\n",
    "# View\n",
    "display(Image(graph.get_graph().draw_mermaid_png()))"
   ],
   "outputs": [
    {
     "data": {
      "image/png": "[encoded data removed]",
      "text/plain": [
       "<IPython.core.display.Image object>"
      ]
     },
     "metadata": {},
     "output_type": "display_data"
    }
   ],
   "execution_count": 36
  },
  {
   "cell_type": "markdown",
   "id": "00617c74-2647-44ea-8a2e-310dd96c0d26",
   "metadata": {},
   "source": [
    "## Graph Invocation\n",
    "\n",
    "The compiled graph implements the [runnable](https://python.langchain.com/docs/concepts/runnables/) protocol.\n",
    "\n",
    "This provides a standard way to execute LangChain components. \n",
    " \n",
    "`invoke` is one of the standard methods in this interface.\n",
    "\n",
    "The input is a dictionary `{\"graph_state\": \"Hi, this is lance.\"}`, which sets the initial value for our graph state dict.\n",
    "\n",
    "When `invoke` is called, the graph starts execution from the `START` node.\n",
    "\n",
    "It progresses through the defined nodes (`node_1`, `node_2`, `node_3`) in order.\n",
    "\n",
    "The conditional edge will traverse from node `1` to node `2` or `3` using a 50/50 decision rule. \n",
    "\n",
    "Each node function receives the current state and returns a new value, which overrides the graph state.\n",
    "\n",
    "The execution continues until it reaches the `END` node."
   ]
  },
  {
   "cell_type": "code",
   "id": "e895f17a-e835-4e8a-8e1b-63fe6d27cc52",
   "metadata": {
    "ExecuteTime": {
     "end_time": "2025-10-14T10:30:21.084082Z",
     "start_time": "2025-10-14T10:30:21.070740Z"
    }
   },
   "source": [
    "res = graph.invoke({\"graph_state\" : \"Hi, this is Lance.\"})\n",
    "res['graph_state']"
   ],
   "outputs": [
    {
     "name": "stdout",
     "output_type": "stream",
     "text": [
      "---Node 1---\n",
      "---Node 3---\n",
      "---Node 4---\n"
     ]
    },
    {
     "data": {
      "text/plain": [
       "'Hi, this is Lance. I am sad! \\n This is LangGraph'"
      ]
     },
     "execution_count": 37,
     "metadata": {},
     "output_type": "execute_result"
    }
   ],
   "execution_count": 37
  },
  {
   "cell_type": "code",
   "execution_count": null,
   "id": "db16ab8d-b817-4f3a-befc-a02b579c4fca",
   "metadata": {},
   "outputs": [],
   "source": []
  }
 ],
 "metadata": {
  "kernelspec": {
   "display_name": "Python 3 (ipykernel)",
   "language": "python",
   "name": "python3"
  },
  "language_info": {
   "codemirror_mode": {
    "name": "ipython",
    "version": 3
   },
   "file_extension": ".py",
   "mimetype": "text/x-python",
   "name": "python",
   "nbconvert_exporter": "python",
   "pygments_lexer": "ipython3",
   "version": "3.12.1"
  }
 },
 "nbformat": 4,
 "nbformat_minor": 5
}
